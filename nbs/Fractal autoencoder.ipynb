{
 "cells": [
  {
   "cell_type": "markdown",
   "metadata": {},
   "source": [
    "# Imports and Tensorflow memory limiting"
   ]
  },
  {
   "cell_type": "code",
   "execution_count": 5,
   "metadata": {
    "collapsed": false
   },
   "outputs": [],
   "source": [
    "%matplotlib inline\n",
    "\n",
    "from scipy.misc     import imsave\n",
    "from keras          import metrics\n",
    "from PIL            import Image\n",
    "\n",
    "from keras.models                      import Model\n",
    "from keras.models                      import Sequential\n",
    "from keras.layers                      import Convolution2D\n",
    "from keras.layers                      import BatchNormalization\n",
    "from keras.layers                      import Activation\n",
    "from keras.layers                      import Dense\n",
    "from keras.layers                      import Reshape\n",
    "from keras.layers                      import UpSampling2D\n",
    "from keras.layers                      import AveragePooling2D\n",
    "from keras.layers                      import GlobalAveragePooling2D\n",
    "from keras.layers                      import Flatten\n",
    "from keras.optimizers                  import Adam\n",
    "from keras.preprocessing               import image\n",
    "from keras.callbacks                   import LearningRateScheduler\n",
    "\n",
    "import keras.backend     as K\n",
    "import numpy             as np\n",
    "import matplotlib.pyplot as plt\n",
    "\n",
    "import tqdm "
   ]
  },
  {
   "cell_type": "code",
   "execution_count": 6,
   "metadata": {
    "collapsed": true
   },
   "outputs": [],
   "source": [
    "def limit_mem():\n",
    "    cfg                          = K.tf.ConfigProto()\n",
    "    cfg.gpu_options.allow_growth = True\n",
    "    K.set_session(K.tf.Session(config = cfg))\n",
    "\n",
    "limit_mem()"
   ]
  },
  {
   "cell_type": "markdown",
   "metadata": {},
   "source": [
    "# Image loading"
   ]
  },
  {
   "cell_type": "code",
   "execution_count": 27,
   "metadata": {
    "collapsed": true
   },
   "outputs": [],
   "source": [
    "data_path      = '../../data/fractal_zooms_sample_class/'\n",
    "encoding_size  = 200\n",
    "model_filename = '../models/model_%06dD.h5' % encoding_size\n",
    "batch_size     = 48\n",
    "preprocess     = lambda x: (x - 127.5) / 127.5"
   ]
  },
  {
   "cell_type": "code",
   "execution_count": 8,
   "metadata": {
    "collapsed": true
   },
   "outputs": [],
   "source": [
    "image_flow_parameters = {\n",
    "    'target_size' : (64, 96),\n",
    "    'color_mode'  : 'grayscale',\n",
    "    'batch_size'  : batch_size,\n",
    "    'class_mode'  : None,\n",
    "}"
   ]
  },
  {
   "cell_type": "code",
   "execution_count": 9,
   "metadata": {
    "collapsed": false
   },
   "outputs": [
    {
     "name": "stdout",
     "output_type": "stream",
     "text": [
      "Found 900 images belonging to 1 classes.\n",
      "Found 100 images belonging to 1 classes.\n"
     ]
    }
   ],
   "source": [
    "train_generator = image.ImageDataGenerator(preprocessing_function = preprocess)\n",
    "train_flow      = train_generator.flow_from_directory(data_path + 'train/', **image_flow_parameters)\n",
    "test_generator  = image.ImageDataGenerator()\n",
    "test_flow       = test_generator.flow_from_directory(data_path + 'test/', **image_flow_parameters)"
   ]
  },
  {
   "cell_type": "code",
   "execution_count": 10,
   "metadata": {
    "collapsed": false
   },
   "outputs": [
    {
     "data": {
      "text/plain": [
       "<matplotlib.image.AxesImage at 0x7f45040d3f98>"
      ]
     },
     "execution_count": 10,
     "metadata": {},
     "output_type": "execute_result"
    },
    {
     "data": {
      "image/png": "[encoded data removed]",
      "text/plain": [
       "<matplotlib.figure.Figure at 0x7f4578361198>"
      ]
     },
     "metadata": {},
     "output_type": "display_data"
    }
   ],
   "source": [
    "images = next(train_flow)\n",
    "plt.imshow(images[0].squeeze(), cmap = 'gray')"
   ]
  },
  {
   "cell_type": "markdown",
   "metadata": {},
   "source": [
    "# Model definition\n",
    "\n",
    "## Utility functions"
   ]
  },
  {
   "cell_type": "code",
   "execution_count": 11,
   "metadata": {
    "collapsed": true
   },
   "outputs": [],
   "source": [
    "def schedule(epoch):\n",
    "    return np.linspace(1e-3, 1e-5, 100)[epoch]"
   ]
  },
  {
   "cell_type": "code",
   "execution_count": 12,
   "metadata": {
    "collapsed": true
   },
   "outputs": [],
   "source": [
    "def convolution2D_init(shape):\n",
    "    return K.random_normal(shape, stddev = 0.02)"
   ]
  },
  {
   "cell_type": "markdown",
   "metadata": {},
   "source": [
    "## Encoder definition"
   ]
  },
  {
   "cell_type": "code",
   "execution_count": 13,
   "metadata": {
    "collapsed": false
   },
   "outputs": [
    {
     "name": "stdout",
     "output_type": "stream",
     "text": [
      "_________________________________________________________________\n",
      "Layer (type)                 Output Shape              Param #   \n",
      "=================================================================\n",
      "conv2d_1 (Conv2D)            (None, 64, 96, 64)        640       \n",
      "_________________________________________________________________\n",
      "batch_normalization_1 (Batch (None, 64, 96, 64)        256       \n",
      "_________________________________________________________________\n",
      "activation_1 (Activation)    (None, 64, 96, 64)        0         \n",
      "_________________________________________________________________\n",
      "conv2d_2 (Conv2D)            (None, 64, 96, 64)        36928     \n",
      "_________________________________________________________________\n",
      "batch_normalization_2 (Batch (None, 64, 96, 64)        256       \n",
      "_________________________________________________________________\n",
      "activation_2 (Activation)    (None, 64, 96, 64)        0         \n",
      "_________________________________________________________________\n",
      "conv2d_3 (Conv2D)            (None, 64, 96, 64)        36928     \n",
      "_________________________________________________________________\n",
      "batch_normalization_3 (Batch (None, 64, 96, 64)        256       \n",
      "_________________________________________________________________\n",
      "activation_3 (Activation)    (None, 64, 96, 64)        0         \n",
      "_________________________________________________________________\n",
      "average_pooling2d_1 (Average (None, 32, 48, 64)        0         \n",
      "_________________________________________________________________\n",
      "conv2d_4 (Conv2D)            (None, 32, 48, 128)       73856     \n",
      "_________________________________________________________________\n",
      "batch_normalization_4 (Batch (None, 32, 48, 128)       128       \n",
      "_________________________________________________________________\n",
      "activation_4 (Activation)    (None, 32, 48, 128)       0         \n",
      "_________________________________________________________________\n",
      "conv2d_5 (Conv2D)            (None, 32, 48, 128)       147584    \n",
      "_________________________________________________________________\n",
      "batch_normalization_5 (Batch (None, 32, 48, 128)       128       \n",
      "_________________________________________________________________\n",
      "activation_5 (Activation)    (None, 32, 48, 128)       0         \n",
      "_________________________________________________________________\n",
      "average_pooling2d_2 (Average (None, 16, 24, 128)       0         \n",
      "_________________________________________________________________\n",
      "conv2d_6 (Conv2D)            (None, 16, 24, 200)       230600    \n",
      "_________________________________________________________________\n",
      "global_average_pooling2d_1 ( (None, 200)               0         \n",
      "=================================================================\n",
      "Total params: 527,560\n",
      "Trainable params: 527,048\n",
      "Non-trainable params: 512\n",
      "_________________________________________________________________\n"
     ]
    }
   ],
   "source": [
    "encoder = Sequential([\n",
    "    Convolution2D(64, (3, 3), padding = 'same', kernel_initializer = convolution2D_init, input_shape = (64, 96, 1)),\n",
    "    BatchNormalization(axis = 1),\n",
    "    Activation('relu'),\n",
    "    Convolution2D(64, (3, 3), padding = 'same', kernel_initializer = convolution2D_init),\n",
    "    BatchNormalization(axis = 1),\n",
    "    Activation('relu'),\n",
    "    Convolution2D(64, (3, 3), padding = 'same', kernel_initializer = convolution2D_init),\n",
    "    BatchNormalization(axis = 1),\n",
    "    Activation('relu'),\n",
    "    AveragePooling2D(),\n",
    "    Convolution2D(128, (3, 3), padding = 'same', kernel_initializer = convolution2D_init),\n",
    "    BatchNormalization(axis = 1),\n",
    "    Activation('relu'),\n",
    "    Convolution2D(128, (3, 3), padding = 'same', kernel_initializer = convolution2D_init),\n",
    "    BatchNormalization(axis = 1),\n",
    "    Activation('relu'),\n",
    "    AveragePooling2D(),\n",
    "    Convolution2D(encoding_size, (3, 3), padding = 'same', kernel_initializer = convolution2D_init),\n",
    "    GlobalAveragePooling2D(data_format = 'channels_last'),\n",
    "#     Flatten(),\n",
    "#     Dense(encoding_size),\n",
    "#     Activation('tanh')\n",
    "])\n",
    "\n",
    "encoder.summary()"
   ]
  },
  {
   "cell_type": "code",
   "execution_count": 14,
   "metadata": {
    "collapsed": false
   },
   "outputs": [
    {
     "name": "stdout",
     "output_type": "stream",
     "text": [
      "_________________________________________________________________\n",
      "Layer (type)                 Output Shape              Param #   \n",
      "=================================================================\n",
      "dense_1 (Dense)              (None, 384)               77184     \n",
      "_________________________________________________________________\n",
      "batch_normalization_6 (Batch (None, 384)               1536      \n",
      "_________________________________________________________________\n",
      "activation_6 (Activation)    (None, 384)               0         \n",
      "_________________________________________________________________\n",
      "reshape_1 (Reshape)          (None, 16, 24, 1)         0         \n",
      "_________________________________________________________________\n",
      "conv2d_7 (Conv2D)            (None, 16, 24, 256)       2560      \n",
      "_________________________________________________________________\n",
      "batch_normalization_7 (Batch (None, 16, 24, 256)       64        \n",
      "_________________________________________________________________\n",
      "activation_7 (Activation)    (None, 16, 24, 256)       0         \n",
      "_________________________________________________________________\n",
      "conv2d_8 (Conv2D)            (None, 16, 24, 256)       590080    \n",
      "_________________________________________________________________\n",
      "batch_normalization_8 (Batch (None, 16, 24, 256)       64        \n",
      "_________________________________________________________________\n",
      "activation_8 (Activation)    (None, 16, 24, 256)       0         \n",
      "_________________________________________________________________\n",
      "up_sampling2d_1 (UpSampling2 (None, 32, 48, 256)       0         \n",
      "_________________________________________________________________\n",
      "conv2d_9 (Conv2D)            (None, 32, 48, 128)       295040    \n",
      "_________________________________________________________________\n",
      "batch_normalization_9 (Batch (None, 32, 48, 128)       128       \n",
      "_________________________________________________________________\n",
      "activation_9 (Activation)    (None, 32, 48, 128)       0         \n",
      "_________________________________________________________________\n",
      "conv2d_10 (Conv2D)           (None, 32, 48, 128)       147584    \n",
      "_________________________________________________________________\n",
      "batch_normalization_10 (Batc (None, 32, 48, 128)       128       \n",
      "_________________________________________________________________\n",
      "activation_10 (Activation)   (None, 32, 48, 128)       0         \n",
      "_________________________________________________________________\n",
      "up_sampling2d_2 (UpSampling2 (None, 64, 96, 128)       0         \n",
      "_________________________________________________________________\n",
      "conv2d_11 (Conv2D)           (None, 64, 96, 64)        73792     \n",
      "_________________________________________________________________\n",
      "batch_normalization_11 (Batc (None, 64, 96, 64)        256       \n",
      "_________________________________________________________________\n",
      "activation_11 (Activation)   (None, 64, 96, 64)        0         \n",
      "_________________________________________________________________\n",
      "conv2d_12 (Conv2D)           (None, 64, 96, 64)        36928     \n",
      "_________________________________________________________________\n",
      "batch_normalization_12 (Batc (None, 64, 96, 64)        256       \n",
      "_________________________________________________________________\n",
      "activation_12 (Activation)   (None, 64, 96, 64)        0         \n",
      "_________________________________________________________________\n",
      "conv2d_13 (Conv2D)           (None, 64, 96, 1)         577       \n",
      "=================================================================\n",
      "Total params: 1,226,177\n",
      "Trainable params: 1,224,961\n",
      "Non-trainable params: 1,216\n",
      "_________________________________________________________________\n"
     ]
    }
   ],
   "source": [
    "decoder = Sequential([\n",
    "    # Initial fully connected layer\n",
    "    Dense(384, input_shape = (encoding_size,)),\n",
    "    BatchNormalization(),\n",
    "    Activation('relu'),\n",
    "    # Reshape into a 16 x 24 array\n",
    "    Reshape((16, 24, 1)),\n",
    "    # 16 x 24\n",
    "    Convolution2D(256, (3, 3), padding = 'same', kernel_initializer = convolution2D_init),\n",
    "    BatchNormalization(axis = 1),\n",
    "    Activation('relu'),\n",
    "    Convolution2D(256, (3, 3), padding = 'same', kernel_initializer = convolution2D_init),\n",
    "    BatchNormalization(axis = 1),\n",
    "    Activation('relu'),\n",
    "    UpSampling2D(),\n",
    "    # Upsampling to 32 x 48\n",
    "    Convolution2D(128, (3, 3), padding = 'same', kernel_initializer = convolution2D_init),\n",
    "    BatchNormalization(axis = 1),\n",
    "    Activation('relu'),\n",
    "    Convolution2D(128, (3, 3), padding = 'same', kernel_initializer = convolution2D_init),\n",
    "    BatchNormalization(axis = 1),\n",
    "    Activation('relu'),\n",
    "    UpSampling2D(),\n",
    "    # Upsampling to 64 x 96\n",
    "    Convolution2D(64, (3, 3), padding = 'same', kernel_initializer = convolution2D_init),\n",
    "    BatchNormalization(axis = 1),\n",
    "    Activation('relu'),\n",
    "    Convolution2D(64, (3, 3), padding = 'same', kernel_initializer = convolution2D_init),\n",
    "    BatchNormalization(axis = 1),\n",
    "    Activation('relu'),\n",
    "    # final image creation\n",
    "    Convolution2D(1, (3, 3), padding = 'same', activation = 'tanh', kernel_initializer = convolution2D_init)\n",
    "])\n",
    "\n",
    "decoder.summary()"
   ]
  },
  {
   "cell_type": "code",
   "execution_count": 15,
   "metadata": {
    "collapsed": true
   },
   "outputs": [],
   "source": [
    "autoencoder = Sequential([\n",
    "    encoder,\n",
    "    decoder\n",
    "])\n",
    "autoencoder.compile(optimizer = Adam(), loss = 'mse')"
   ]
  },
  {
   "cell_type": "code",
   "execution_count": 16,
   "metadata": {
    "collapsed": true
   },
   "outputs": [],
   "source": [
    "autoencoder_flow = ((x, x) for x in train_flow)"
   ]
  },
  {
   "cell_type": "code",
   "execution_count": 17,
   "metadata": {
    "collapsed": true
   },
   "outputs": [],
   "source": [
    "change_lr = LearningRateScheduler(schedule)"
   ]
  },
  {
   "cell_type": "code",
   "execution_count": 18,
   "metadata": {
    "collapsed": false
   },
   "outputs": [
    {
     "name": "stderr",
     "output_type": "stream",
     "text": [
      "/home/rodgzilla/Documents/machine_learning/keras/keras/backend/tensorflow_backend.py:2252: UserWarning: Expected no kwargs, you passed 1\n",
      "kwargs passed to function are ignored with Tensorflow backend\n",
      "  warnings.warn('\\n'.join(msg))\n"
     ]
    },
    {
     "name": "stdout",
     "output_type": "stream",
     "text": [
      "Epoch 1/100\n",
      "65s - loss: 0.0691\n",
      "Epoch 2/100\n",
      "63s - loss: 0.0336\n",
      "Epoch 3/100\n",
      "63s - loss: 0.0317\n",
      "Epoch 4/100\n",
      "63s - loss: 0.0309\n",
      "Epoch 5/100\n",
      "63s - loss: 0.0315\n",
      "Epoch 6/100\n",
      "63s - loss: 0.0307\n",
      "Epoch 7/100\n",
      "63s - loss: 0.0315\n",
      "Epoch 8/100\n",
      "63s - loss: 0.0314\n",
      "Epoch 9/100\n",
      "63s - loss: 0.0287\n",
      "Epoch 10/100\n",
      "63s - loss: 0.0281\n",
      "Epoch 11/100\n",
      "63s - loss: 0.0272\n",
      "Epoch 12/100\n",
      "63s - loss: 0.0277\n",
      "Epoch 13/100\n",
      "63s - loss: 0.0268\n",
      "Epoch 14/100\n",
      "63s - loss: 0.0262\n",
      "Epoch 15/100\n",
      "62s - loss: 0.0253\n",
      "Epoch 16/100\n",
      "62s - loss: 0.0255\n",
      "Epoch 17/100\n",
      "63s - loss: 0.0246\n",
      "Epoch 18/100\n",
      "63s - loss: 0.0239\n",
      "Epoch 19/100\n",
      "63s - loss: 0.0248\n",
      "Epoch 20/100\n",
      "63s - loss: 0.0242\n",
      "Epoch 21/100\n",
      "63s - loss: 0.0238\n",
      "Epoch 22/100\n",
      "63s - loss: 0.0234\n",
      "Epoch 23/100\n",
      "63s - loss: 0.0235\n",
      "Epoch 24/100\n",
      "63s - loss: 0.0234\n",
      "Epoch 25/100\n",
      "63s - loss: 0.0233\n",
      "Epoch 26/100\n",
      "63s - loss: 0.0236\n",
      "Epoch 27/100\n",
      "62s - loss: 0.0226\n",
      "Epoch 28/100\n",
      "62s - loss: 0.0226\n",
      "Epoch 29/100\n",
      "63s - loss: 0.0225\n",
      "Epoch 30/100\n",
      "63s - loss: 0.0225\n",
      "Epoch 31/100\n",
      "62s - loss: 0.0224\n",
      "Epoch 32/100\n",
      "62s - loss: 0.0225\n",
      "Epoch 33/100\n",
      "62s - loss: 0.0221\n",
      "Epoch 34/100\n",
      "62s - loss: 0.0217\n",
      "Epoch 35/100\n",
      "62s - loss: 0.0220\n",
      "Epoch 36/100\n",
      "62s - loss: 0.0218\n",
      "Epoch 37/100\n",
      "62s - loss: 0.0217\n",
      "Epoch 38/100\n",
      "62s - loss: 0.0218\n",
      "Epoch 39/100\n",
      "62s - loss: 0.0210\n",
      "Epoch 40/100\n",
      "62s - loss: 0.0214\n",
      "Epoch 41/100\n",
      "62s - loss: 0.0215\n",
      "Epoch 42/100\n",
      "62s - loss: 0.0212\n",
      "Epoch 43/100\n",
      "62s - loss: 0.0213\n",
      "Epoch 44/100\n",
      "63s - loss: 0.0210\n",
      "Epoch 45/100\n",
      "62s - loss: 0.0212\n",
      "Epoch 46/100\n",
      "62s - loss: 0.0207\n",
      "Epoch 47/100\n",
      "62s - loss: 0.0207\n",
      "Epoch 48/100\n",
      "62s - loss: 0.0205\n",
      "Epoch 49/100\n",
      "62s - loss: 0.0208\n",
      "Epoch 50/100\n",
      "62s - loss: 0.0205\n",
      "Epoch 51/100\n",
      "62s - loss: 0.0205\n",
      "Epoch 52/100\n",
      "62s - loss: 0.0205\n",
      "Epoch 53/100\n",
      "62s - loss: 0.0204\n",
      "Epoch 54/100\n",
      "62s - loss: 0.0202\n",
      "Epoch 55/100\n",
      "62s - loss: 0.0200\n",
      "Epoch 56/100\n",
      "62s - loss: 0.0201\n",
      "Epoch 57/100\n",
      "62s - loss: 0.0199\n",
      "Epoch 58/100\n",
      "62s - loss: 0.0199\n",
      "Epoch 59/100\n",
      "62s - loss: 0.0200\n",
      "Epoch 60/100\n",
      "62s - loss: 0.0199\n",
      "Epoch 61/100\n",
      "62s - loss: 0.0197\n",
      "Epoch 62/100\n",
      "62s - loss: 0.0197\n",
      "Epoch 63/100\n",
      "62s - loss: 0.0197\n",
      "Epoch 64/100\n",
      "62s - loss: 0.0194\n",
      "Epoch 65/100\n",
      "62s - loss: 0.0197\n",
      "Epoch 66/100\n",
      "63s - loss: 0.0197\n",
      "Epoch 67/100\n",
      "62s - loss: 0.0193\n",
      "Epoch 68/100\n",
      "62s - loss: 0.0193\n",
      "Epoch 69/100\n",
      "63s - loss: 0.0195\n",
      "Epoch 70/100\n",
      "62s - loss: 0.0193\n",
      "Epoch 71/100\n",
      "63s - loss: 0.0193\n",
      "Epoch 72/100\n",
      "62s - loss: 0.0193\n",
      "Epoch 73/100\n",
      "62s - loss: 0.0188\n",
      "Epoch 74/100\n",
      "63s - loss: 0.0190\n",
      "Epoch 75/100\n",
      "62s - loss: 0.0190\n",
      "Epoch 76/100\n",
      "62s - loss: 0.0190\n",
      "Epoch 77/100\n",
      "63s - loss: 0.0193\n",
      "Epoch 78/100\n",
      "62s - loss: 0.0189\n",
      "Epoch 79/100\n",
      "62s - loss: 0.0189\n",
      "Epoch 80/100\n",
      "62s - loss: 0.0188\n",
      "Epoch 81/100\n",
      "62s - loss: 0.0188\n",
      "Epoch 82/100\n",
      "64s - loss: 0.0188\n",
      "Epoch 83/100\n",
      "64s - loss: 0.0190\n",
      "Epoch 84/100\n",
      "63s - loss: 0.0184\n",
      "Epoch 85/100\n",
      "64s - loss: 0.0187\n",
      "Epoch 86/100\n",
      "63s - loss: 0.0185\n",
      "Epoch 87/100\n",
      "63s - loss: 0.0187\n",
      "Epoch 88/100\n",
      "63s - loss: 0.0187\n",
      "Epoch 89/100\n",
      "63s - loss: 0.0184\n",
      "Epoch 90/100\n",
      "63s - loss: 0.0187\n",
      "Epoch 91/100\n",
      "63s - loss: 0.0184\n",
      "Epoch 92/100\n",
      "64s - loss: 0.0184\n",
      "Epoch 93/100\n",
      "65s - loss: 0.0184\n",
      "Epoch 94/100\n",
      "64s - loss: 0.0183\n",
      "Epoch 95/100\n",
      "63s - loss: 0.0183\n",
      "Epoch 96/100\n",
      "63s - loss: 0.0185\n",
      "Epoch 97/100\n",
      "63s - loss: 0.0184\n",
      "Epoch 98/100\n",
      "63s - loss: 0.0182\n",
      "Epoch 99/100\n",
      "64s - loss: 0.0182\n",
      "Epoch 100/100\n",
      "63s - loss: 0.0184\n"
     ]
    },
    {
     "data": {
      "text/plain": [
       "<keras.callbacks.History at 0x7f44d8188780>"
      ]
     },
     "execution_count": 18,
     "metadata": {},
     "output_type": "execute_result"
    }
   ],
   "source": [
    "autoencoder.fit_generator(autoencoder_flow, epochs = 100, steps_per_epoch = 50, verbose = 2, callbacks = [change_lr]) "
   ]
  },
  {
   "cell_type": "code",
   "execution_count": 19,
   "metadata": {
    "collapsed": false
   },
   "outputs": [
    {
     "name": "stderr",
     "output_type": "stream",
     "text": [
      "/home/rodgzilla/Documents/machine_learning/keras/keras/backend/tensorflow_backend.py:2252: UserWarning: Expected no kwargs, you passed 1\n",
      "kwargs passed to function are ignored with Tensorflow backend\n",
      "  warnings.warn('\\n'.join(msg))\n"
     ]
    },
    {
     "data": {
      "text/plain": [
       "<matplotlib.image.AxesImage at 0x7f449aa8f5c0>"
      ]
     },
     "execution_count": 19,
     "metadata": {},
     "output_type": "execute_result"
    },
    {
     "data": {
      "image/png": "[encoded data removed]",
      "text/plain": [
       "<matplotlib.figure.Figure at 0x7f449bb43898>"
      ]
     },
     "metadata": {},
     "output_type": "display_data"
    }
   ],
   "source": [
    "img = images[:1]\n",
    "plt.imshow(autoencoder.predict(img).squeeze(), cmap = 'gray')"
   ]
  },
  {
   "cell_type": "code",
   "execution_count": 20,
   "metadata": {
    "collapsed": false
   },
   "outputs": [
    {
     "name": "stdout",
     "output_type": "stream",
     "text": [
      "(48, 64, 96, 1) (48, 64, 96, 1)\n",
      "-0.818825 -1.00565\n",
      "0.134886 0.00139268\n",
      "-0.999954 -1.00784\n",
      "-0.0447155 -0.992218\n"
     ]
    },
    {
     "data": {
      "text/plain": [
       "<matplotlib.image.AxesImage at 0x7f44985f7358>"
      ]
     },
     "execution_count": 20,
     "metadata": {},
     "output_type": "execute_result"
    },
    {
     "data": {
      "image/png": "[encoded data removed]",
      "text/plain": [
       "<matplotlib.figure.Figure at 0x7f449aabb2b0>"
      ]
     },
     "metadata": {},
     "output_type": "display_data"
    }
   ],
   "source": [
    "result = autoencoder.predict(images, batch_size = batch_size)\n",
    "print(result.shape, images.shape)\n",
    "preproc_images = preprocess(images)\n",
    "print(result.mean(), preproc_images.mean())\n",
    "print(result.std(), preproc_images.std())\n",
    "print(result.min(), preproc_images.min())\n",
    "print(result.max(), preproc_images.max())\n",
    "\n",
    "plt.imshow(result[15].squeeze(), cmap = 'gray')"
   ]
  },
  {
   "cell_type": "code",
   "execution_count": 21,
   "metadata": {
    "collapsed": false
   },
   "outputs": [
    {
     "data": {
      "text/plain": [
       "<matplotlib.image.AxesImage at 0x7f44985798d0>"
      ]
     },
     "execution_count": 21,
     "metadata": {},
     "output_type": "execute_result"
    },
    {
     "data": {
      "image/png": "[encoded data removed]",
      "text/plain": [
       "<matplotlib.figure.Figure at 0x7f449ab3eeb8>"
      ]
     },
     "metadata": {},
     "output_type": "display_data"
    }
   ],
   "source": [
    "plt.imshow(images[15].squeeze(), cmap = 'gray')"
   ]
  },
  {
   "cell_type": "code",
   "execution_count": 28,
   "metadata": {
    "collapsed": true
   },
   "outputs": [],
   "source": [
    "autoencoder.save_weights(model_filename)"
   ]
  },
  {
   "cell_type": "code",
   "execution_count": 29,
   "metadata": {
    "collapsed": true
   },
   "outputs": [],
   "source": [
    "autoencoder.load_weights(model_filename)"
   ]
  },
  {
   "cell_type": "code",
   "execution_count": 30,
   "metadata": {
    "collapsed": false
   },
   "outputs": [
    {
     "data": {
      "text/plain": [
       "<matplotlib.image.AxesImage at 0x7f4498286470>"
      ]
     },
     "execution_count": 30,
     "metadata": {},
     "output_type": "execute_result"
    },
    {
     "data": {
      "image/png": "[encoded data removed]",
      "text/plain": [
       "<matplotlib.figure.Figure at 0x7f449ab74550>"
      ]
     },
     "metadata": {},
     "output_type": "display_data"
    }
   ],
   "source": [
    "plt.imshow(result[15].squeeze(), cmap = 'gray')"
   ]
  },
  {
   "cell_type": "code",
   "execution_count": null,
   "metadata": {
    "collapsed": true
   },
   "outputs": [],
   "source": []
  }
 ],
 "metadata": {
  "kernelspec": {
   "display_name": "Python 3",
   "language": "python",
   "name": "python3"
  },
  "language_info": {
   "codemirror_mode": {
    "name": "ipython",
    "version": 3
   },
   "file_extension": ".py",
   "mimetype": "text/x-python",
   "name": "python",
   "nbconvert_exporter": "python",
   "pygments_lexer": "ipython3",
   "version": "3.6.0"
  }
 },
 "nbformat": 4,
 "nbformat_minor": 2
}
