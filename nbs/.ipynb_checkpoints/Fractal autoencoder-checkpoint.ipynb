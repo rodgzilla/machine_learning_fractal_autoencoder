{
 "cells": [
  {
   "cell_type": "markdown",
   "metadata": {},
   "source": [
    "# Imports and Tensorflow memory limiting"
   ]
  },
  {
   "cell_type": "code",
   "execution_count": 1,
   "metadata": {
    "collapsed": false
   },
   "outputs": [
    {
     "name": "stderr",
     "output_type": "stream",
     "text": [
      "Using TensorFlow backend.\n"
     ]
    }
   ],
   "source": [
    "%matplotlib inline\n",
    "\n",
    "from scipy.misc     import imsave\n",
    "from keras          import metrics\n",
    "from PIL            import Image\n",
    "\n",
    "from keras.models                      import Model\n",
    "from keras.models                      import Sequential\n",
    "from keras.layers                      import Lambda\n",
    "from keras.layers                      import Input\n",
    "from keras.layers                      import Convolution2D\n",
    "from keras.layers                      import Deconvolution2D\n",
    "from keras.layers                      import BatchNormalization\n",
    "from keras.layers                      import merge\n",
    "from keras.layers                      import Activation\n",
    "from keras.layers                      import Add\n",
    "from keras.layers                      import Dense\n",
    "from keras.layers                      import Reshape\n",
    "from keras.layers                      import UpSampling2D\n",
    "from keras.layers                      import Convolution2DTranspose\n",
    "from keras.layers                      import AveragePooling2D\n",
    "from keras.layers                      import GlobalAveragePooling2D\n",
    "from keras.layers                      import Flatten\n",
    "from keras.optimizers                  import Adam\n",
    "from keras.applications.vgg16          import VGG16\n",
    "from keras.applications.vgg16          import decode_predictions\n",
    "from keras.utils.np_utils              import to_categorical\n",
    "from keras.applications.imagenet_utils import CLASS_INDEX\n",
    "from keras.preprocessing               import image\n",
    "\n",
    "import keras.backend     as K\n",
    "import numpy             as np\n",
    "import matplotlib.pyplot as plt\n",
    "\n",
    "import tqdm \n",
    "import os"
   ]
  },
  {
   "cell_type": "code",
   "execution_count": 2,
   "metadata": {
    "collapsed": true
   },
   "outputs": [],
   "source": [
    "def limit_mem():\n",
    "    cfg                          = K.tf.ConfigProto()\n",
    "    cfg.gpu_options.allow_growth = True\n",
    "    K.set_session(K.tf.Session(config = cfg))\n",
    "\n",
    "limit_mem()"
   ]
  },
  {
   "cell_type": "markdown",
   "metadata": {},
   "source": [
    "# Image loading"
   ]
  },
  {
   "cell_type": "code",
   "execution_count": 3,
   "metadata": {
    "collapsed": true
   },
   "outputs": [],
   "source": [
    "data_path = '../../data/fractal_zooms_sample_class/'"
   ]
  },
  {
   "cell_type": "code",
   "execution_count": 4,
   "metadata": {
    "collapsed": true
   },
   "outputs": [],
   "source": [
    "encoding_size = 100"
   ]
  },
  {
   "cell_type": "code",
   "execution_count": 5,
   "metadata": {
    "collapsed": true
   },
   "outputs": [],
   "source": [
    "batch_size = 48"
   ]
  },
  {
   "cell_type": "code",
   "execution_count": 6,
   "metadata": {
    "collapsed": true
   },
   "outputs": [],
   "source": [
    "image_flow_parameters = {\n",
    "#    'target_size' : (128, 192),\n",
    "    'target_size' : (64, 96),\n",
    "    'color_mode'  : 'grayscale',\n",
    "    'batch_size'  : batch_size,\n",
    "    'class_mode'  : None\n",
    "}"
   ]
  },
  {
   "cell_type": "code",
   "execution_count": 7,
   "metadata": {
    "collapsed": false
   },
   "outputs": [
    {
     "name": "stdout",
     "output_type": "stream",
     "text": [
      "Found 900 images belonging to 1 classes.\n"
     ]
    }
   ],
   "source": [
    "train_generator = image.ImageDataGenerator()\n",
    "train_flow      = train_generator.flow_from_directory(data_path + 'train/', **image_flow_parameters)"
   ]
  },
  {
   "cell_type": "code",
   "execution_count": 8,
   "metadata": {
    "collapsed": false
   },
   "outputs": [
    {
     "name": "stdout",
     "output_type": "stream",
     "text": [
      "Found 100 images belonging to 1 classes.\n"
     ]
    }
   ],
   "source": [
    "test_generator = image.ImageDataGenerator()\n",
    "test_flow      = test_generator.flow_from_directory(data_path + 'test/', **image_flow_parameters)"
   ]
  },
  {
   "cell_type": "code",
   "execution_count": 9,
   "metadata": {
    "collapsed": false
   },
   "outputs": [],
   "source": [
    "images = next(train_flow)"
   ]
  },
  {
   "cell_type": "code",
   "execution_count": 10,
   "metadata": {
    "collapsed": false
   },
   "outputs": [
    {
     "data": {
      "text/plain": [
       "<matplotlib.image.AxesImage at 0x7f6a745d0780>"
      ]
     },
     "execution_count": 10,
     "metadata": {},
     "output_type": "execute_result"
    },
    {
     "data": {
      "image/png": "[encoded data removed]",
      "text/plain": [
       "<matplotlib.figure.Figure at 0x7f6a74640ba8>"
      ]
     },
     "metadata": {},
     "output_type": "display_data"
    }
   ],
   "source": [
    "plt.imshow(images[5].squeeze(), cmap = 'gray')"
   ]
  },
  {
   "cell_type": "markdown",
   "metadata": {},
   "source": [
    "# Model definition"
   ]
  },
  {
   "cell_type": "code",
   "execution_count": 11,
   "metadata": {
    "collapsed": true
   },
   "outputs": [],
   "source": [
    "images_mean = 37.6\n",
    "images_std  = 25.66\n",
    "preprocess  = lambda x: (x - 127.5) / 127.5"
   ]
  },
  {
   "cell_type": "code",
   "execution_count": 12,
   "metadata": {
    "collapsed": true
   },
   "outputs": [],
   "source": [
    "# encoder = Sequential([\n",
    "#     Lambda(preprocess, input_shape = (64, 96, 1)),\n",
    "#     Convolution2D(64, (3, 3), padding = 'same'),\n",
    "#     BatchNormalization(axis = 1),\n",
    "#     Activation('relu'),\n",
    "#     Convolution2D(64, (3, 3), padding = 'same'),\n",
    "#     BatchNormalization(axis = 1),\n",
    "#     Activation('relu'),\n",
    "#     Convolution2D(64, (3, 3), padding = 'same'),\n",
    "#     BatchNormalization(axis = 1),\n",
    "#     Activation('relu'),\n",
    "#     AveragePooling2D(),\n",
    "#     Convolution2D(128, (3, 3), padding = 'same'),\n",
    "#     BatchNormalization(axis = 1),\n",
    "#     Activation('relu'),\n",
    "#     Convolution2D(128, (3, 3), padding = 'same'),\n",
    "#     BatchNormalization(axis = 1),\n",
    "#     Activation('relu'),\n",
    "#     AveragePooling2D(),\n",
    "#     Flatten(),\n",
    "#     Dense(encoding_size),\n",
    "# #    Activation('tanh')\n",
    "# ])"
   ]
  },
  {
   "cell_type": "code",
   "execution_count": 13,
   "metadata": {
    "collapsed": false
   },
   "outputs": [],
   "source": [
    "encoder = Sequential([\n",
    "    Lambda(preprocess, input_shape = (64, 96, 1)),\n",
    "    Convolution2D(64, (3, 3), padding = 'same'),\n",
    "    BatchNormalization(axis = 1),\n",
    "    Activation('relu'),\n",
    "    Convolution2D(64, (3, 3), padding = 'same'),\n",
    "    BatchNormalization(axis = 1),\n",
    "    Activation('relu'),\n",
    "    Convolution2D(64, (3, 3), padding = 'same'),\n",
    "    BatchNormalization(axis = 1),\n",
    "    Activation('relu'),\n",
    "    AveragePooling2D(),\n",
    "    Convolution2D(128, (3, 3), padding = 'same'),\n",
    "    BatchNormalization(axis = 1),\n",
    "    Activation('relu'),\n",
    "    Convolution2D(128, (3, 3), padding = 'same'),\n",
    "    BatchNormalization(axis = 1),\n",
    "    Activation('relu'),\n",
    "    AveragePooling2D(),\n",
    "    Convolution2D(encoding_size, (3, 3), padding = 'same'),\n",
    "    GlobalAveragePooling2D(data_format = 'channels_last'),\n",
    "#     Flatten()\n",
    "#     Dense(encoding_size),\n",
    "#    Activation('tanh')\n",
    "])"
   ]
  },
  {
   "cell_type": "code",
   "execution_count": 14,
   "metadata": {
    "collapsed": false
   },
   "outputs": [
    {
     "name": "stdout",
     "output_type": "stream",
     "text": [
      "_________________________________________________________________\n",
      "Layer (type)                 Output Shape              Param #   \n",
      "=================================================================\n",
      "lambda_1 (Lambda)            (None, 64, 96, 1)         0         \n",
      "_________________________________________________________________\n",
      "conv2d_1 (Conv2D)            (None, 64, 96, 64)        640       \n",
      "_________________________________________________________________\n",
      "batch_normalization_1 (Batch (None, 64, 96, 64)        256       \n",
      "_________________________________________________________________\n",
      "activation_1 (Activation)    (None, 64, 96, 64)        0         \n",
      "_________________________________________________________________\n",
      "conv2d_2 (Conv2D)            (None, 64, 96, 64)        36928     \n",
      "_________________________________________________________________\n",
      "batch_normalization_2 (Batch (None, 64, 96, 64)        256       \n",
      "_________________________________________________________________\n",
      "activation_2 (Activation)    (None, 64, 96, 64)        0         \n",
      "_________________________________________________________________\n",
      "conv2d_3 (Conv2D)            (None, 64, 96, 64)        36928     \n",
      "_________________________________________________________________\n",
      "batch_normalization_3 (Batch (None, 64, 96, 64)        256       \n",
      "_________________________________________________________________\n",
      "activation_3 (Activation)    (None, 64, 96, 64)        0         \n",
      "_________________________________________________________________\n",
      "average_pooling2d_1 (Average (None, 32, 48, 64)        0         \n",
      "_________________________________________________________________\n",
      "conv2d_4 (Conv2D)            (None, 32, 48, 128)       73856     \n",
      "_________________________________________________________________\n",
      "batch_normalization_4 (Batch (None, 32, 48, 128)       128       \n",
      "_________________________________________________________________\n",
      "activation_4 (Activation)    (None, 32, 48, 128)       0         \n",
      "_________________________________________________________________\n",
      "conv2d_5 (Conv2D)            (None, 32, 48, 128)       147584    \n",
      "_________________________________________________________________\n",
      "batch_normalization_5 (Batch (None, 32, 48, 128)       128       \n",
      "_________________________________________________________________\n",
      "activation_5 (Activation)    (None, 32, 48, 128)       0         \n",
      "_________________________________________________________________\n",
      "average_pooling2d_2 (Average (None, 16, 24, 128)       0         \n",
      "_________________________________________________________________\n",
      "conv2d_6 (Conv2D)            (None, 16, 24, 100)       115300    \n",
      "_________________________________________________________________\n",
      "global_average_pooling2d_1 ( (None, 100)               0         \n",
      "=================================================================\n",
      "Total params: 412,260\n",
      "Trainable params: 411,748\n",
      "Non-trainable params: 512\n",
      "_________________________________________________________________\n"
     ]
    }
   ],
   "source": [
    "encoder.summary()"
   ]
  },
  {
   "cell_type": "code",
   "execution_count": 15,
   "metadata": {
    "collapsed": true
   },
   "outputs": [],
   "source": [
    "decoder = Sequential([\n",
    "    # Initial fully connected layer\n",
    "    Dense(384, input_shape = (encoding_size,)),\n",
    "    BatchNormalization(),\n",
    "    Activation('relu'),\n",
    "    # Reshape into a 16 x 24 array\n",
    "    Reshape((16, 24, 1)),\n",
    "    # 16 x 24\n",
    "    Convolution2D(256, (3, 3), padding = 'same'),\n",
    "    BatchNormalization(axis = 1),\n",
    "    Activation('relu'),\n",
    "    Convolution2D(256, (3, 3), padding = 'same'),\n",
    "    BatchNormalization(axis = 1),\n",
    "    Activation('relu'),\n",
    "    UpSampling2D(),\n",
    "    # Upsampling to 32 x 48\n",
    "    Convolution2D(128, (3, 3), padding = 'same'),\n",
    "    BatchNormalization(axis = 1),\n",
    "    Activation('relu'),\n",
    "    Convolution2D(128, (3, 3), padding = 'same'),\n",
    "    BatchNormalization(axis = 1),\n",
    "    Activation('relu'),\n",
    "    UpSampling2D(),\n",
    "    # Upsampling to 64 x 96\n",
    "    Convolution2D(64, (3, 3), padding = 'same'),\n",
    "    BatchNormalization(axis = 1),\n",
    "    Activation('relu'),\n",
    "    Convolution2D(64, (3, 3), padding = 'same'),\n",
    "    BatchNormalization(axis = 1),\n",
    "    Activation('relu'),\n",
    "    # final image creation\n",
    "    Convolution2D(1, (3, 3), padding = 'same', activation = 'tanh')\n",
    "])"
   ]
  },
  {
   "cell_type": "code",
   "execution_count": 16,
   "metadata": {
    "collapsed": false
   },
   "outputs": [
    {
     "name": "stdout",
     "output_type": "stream",
     "text": [
      "_________________________________________________________________\n",
      "Layer (type)                 Output Shape              Param #   \n",
      "=================================================================\n",
      "dense_1 (Dense)              (None, 384)               38784     \n",
      "_________________________________________________________________\n",
      "batch_normalization_6 (Batch (None, 384)               1536      \n",
      "_________________________________________________________________\n",
      "activation_6 (Activation)    (None, 384)               0         \n",
      "_________________________________________________________________\n",
      "reshape_1 (Reshape)          (None, 16, 24, 1)         0         \n",
      "_________________________________________________________________\n",
      "conv2d_7 (Conv2D)            (None, 16, 24, 256)       2560      \n",
      "_________________________________________________________________\n",
      "batch_normalization_7 (Batch (None, 16, 24, 256)       64        \n",
      "_________________________________________________________________\n",
      "activation_7 (Activation)    (None, 16, 24, 256)       0         \n",
      "_________________________________________________________________\n",
      "conv2d_8 (Conv2D)            (None, 16, 24, 256)       590080    \n",
      "_________________________________________________________________\n",
      "batch_normalization_8 (Batch (None, 16, 24, 256)       64        \n",
      "_________________________________________________________________\n",
      "activation_8 (Activation)    (None, 16, 24, 256)       0         \n",
      "_________________________________________________________________\n",
      "up_sampling2d_1 (UpSampling2 (None, 32, 48, 256)       0         \n",
      "_________________________________________________________________\n",
      "conv2d_9 (Conv2D)            (None, 32, 48, 128)       295040    \n",
      "_________________________________________________________________\n",
      "batch_normalization_9 (Batch (None, 32, 48, 128)       128       \n",
      "_________________________________________________________________\n",
      "activation_9 (Activation)    (None, 32, 48, 128)       0         \n",
      "_________________________________________________________________\n",
      "conv2d_10 (Conv2D)           (None, 32, 48, 128)       147584    \n",
      "_________________________________________________________________\n",
      "batch_normalization_10 (Batc (None, 32, 48, 128)       128       \n",
      "_________________________________________________________________\n",
      "activation_10 (Activation)   (None, 32, 48, 128)       0         \n",
      "_________________________________________________________________\n",
      "up_sampling2d_2 (UpSampling2 (None, 64, 96, 128)       0         \n",
      "_________________________________________________________________\n",
      "conv2d_11 (Conv2D)           (None, 64, 96, 64)        73792     \n",
      "_________________________________________________________________\n",
      "batch_normalization_11 (Batc (None, 64, 96, 64)        256       \n",
      "_________________________________________________________________\n",
      "activation_11 (Activation)   (None, 64, 96, 64)        0         \n",
      "_________________________________________________________________\n",
      "conv2d_12 (Conv2D)           (None, 64, 96, 64)        36928     \n",
      "_________________________________________________________________\n",
      "batch_normalization_12 (Batc (None, 64, 96, 64)        256       \n",
      "_________________________________________________________________\n",
      "activation_12 (Activation)   (None, 64, 96, 64)        0         \n",
      "_________________________________________________________________\n",
      "conv2d_13 (Conv2D)           (None, 64, 96, 1)         577       \n",
      "=================================================================\n",
      "Total params: 1,187,777\n",
      "Trainable params: 1,186,561\n",
      "Non-trainable params: 1,216\n",
      "_________________________________________________________________\n"
     ]
    }
   ],
   "source": [
    "decoder.summary()"
   ]
  },
  {
   "cell_type": "code",
   "execution_count": 17,
   "metadata": {
    "collapsed": true
   },
   "outputs": [],
   "source": [
    "autoencoder = Sequential([\n",
    "    encoder,\n",
    "    decoder\n",
    "])\n",
    "autoencoder.compile(optimizer = Adam(1e-7), loss = 'mse')"
   ]
  },
  {
   "cell_type": "code",
   "execution_count": 18,
   "metadata": {
    "collapsed": true
   },
   "outputs": [],
   "source": [
    "autoencoder_flow = ((x, x) for x in train_flow)"
   ]
  },
  {
   "cell_type": "code",
   "execution_count": 19,
   "metadata": {
    "collapsed": false
   },
   "outputs": [
    {
     "name": "stdout",
     "output_type": "stream",
     "text": [
      "Epoch 1/30\n",
      "52s - loss: 2078.6868\n",
      "Epoch 2/30\n",
      "49s - loss: 2033.8180\n",
      "Epoch 3/30\n",
      "49s - loss: 2036.2145\n",
      "Epoch 4/30\n",
      "49s - loss: 2061.5719\n",
      "Epoch 5/30\n",
      "49s - loss: 2043.1177\n",
      "Epoch 6/30\n",
      "49s - loss: 2024.8668\n",
      "Epoch 7/30\n",
      "49s - loss: 2042.7691\n",
      "Epoch 8/30\n",
      "49s - loss: 2049.3496\n",
      "Epoch 9/30\n",
      "49s - loss: 2029.6563\n",
      "Epoch 10/30\n",
      "49s - loss: 2020.3477\n",
      "Epoch 11/30\n",
      "49s - loss: 2048.5030\n",
      "Epoch 12/30\n",
      "49s - loss: 2019.0371\n",
      "Epoch 13/30\n",
      "49s - loss: 2042.9395\n",
      "Epoch 14/30\n",
      "49s - loss: 2002.4173\n",
      "Epoch 15/30\n",
      "49s - loss: 2038.6838\n",
      "Epoch 16/30\n",
      "49s - loss: 2021.1591\n",
      "Epoch 17/30\n",
      "49s - loss: 2033.1584\n",
      "Epoch 18/30\n",
      "49s - loss: 2015.8274\n",
      "Epoch 19/30\n",
      "49s - loss: 2008.7178\n",
      "Epoch 20/30\n",
      "49s - loss: 2026.4575\n",
      "Epoch 21/30\n",
      "49s - loss: 1986.6772\n",
      "Epoch 22/30\n",
      "49s - loss: 2026.2528\n",
      "Epoch 23/30\n",
      "49s - loss: 2036.6676\n",
      "Epoch 24/30\n",
      "49s - loss: 2006.9638\n",
      "Epoch 25/30\n",
      "49s - loss: 2007.0580\n",
      "Epoch 26/30\n",
      "49s - loss: 2002.4790\n",
      "Epoch 27/30\n",
      "50s - loss: 1993.8304\n",
      "Epoch 28/30\n",
      "49s - loss: 2024.2047\n",
      "Epoch 29/30\n",
      "49s - loss: 2014.7957\n",
      "Epoch 30/30\n",
      "49s - loss: 1978.3535\n"
     ]
    },
    {
     "data": {
      "text/plain": [
       "<keras.callbacks.History at 0x7f6a746409b0>"
      ]
     },
     "execution_count": 19,
     "metadata": {},
     "output_type": "execute_result"
    }
   ],
   "source": [
    "autoencoder.fit_generator(autoencoder_flow, epochs = 30, steps_per_epoch = 40, verbose = 2) "
   ]
  },
  {
   "cell_type": "code",
   "execution_count": 20,
   "metadata": {
    "collapsed": false
   },
   "outputs": [
    {
     "data": {
      "text/plain": [
       "<matplotlib.image.AxesImage at 0x7f6a09fe55c0>"
      ]
     },
     "execution_count": 20,
     "metadata": {},
     "output_type": "execute_result"
    },
    {
     "data": {
      "image/png": "[encoded data removed]",
      "text/plain": [
       "<matplotlib.figure.Figure at 0x7f6a7460d908>"
      ]
     },
     "metadata": {},
     "output_type": "display_data"
    }
   ],
   "source": [
    "img = images[:1]\n",
    "plt.imshow(autoencoder.predict(img).squeeze(), cmap = 'gray')"
   ]
  },
  {
   "cell_type": "code",
   "execution_count": 21,
   "metadata": {
    "collapsed": false
   },
   "outputs": [
    {
     "name": "stdout",
     "output_type": "stream",
     "text": [
      "(48, 64, 96, 1) (48, 64, 96, 1)\n",
      "0.816768 -0.712766\n",
      "0.207454 0.208301\n",
      "-0.916535 -1.0\n",
      "1.0 0.992157\n"
     ]
    },
    {
     "data": {
      "text/plain": [
       "<matplotlib.image.AxesImage at 0x7f6a09e8e160>"
      ]
     },
     "execution_count": 21,
     "metadata": {},
     "output_type": "execute_result"
    },
    {
     "data": {
      "image/png": "[encoded data removed]",
      "text/plain": [
       "<matplotlib.figure.Figure at 0x7f6a09f02630>"
      ]
     },
     "metadata": {},
     "output_type": "display_data"
    }
   ],
   "source": [
    "result = autoencoder.predict(images, batch_size = batch_size)\n",
    "print(result.shape, images.shape)\n",
    "preproc_images = preprocess(images)\n",
    "print(result.mean(), preproc_images.mean())\n",
    "print(result.std(), preproc_images.std())\n",
    "print(result.min(), preproc_images.min())\n",
    "print(result.max(), preproc_images.max())\n",
    "\n",
    "plt.imshow(result[0].squeeze(), cmap = 'gray')"
   ]
  }
 ],
 "metadata": {
  "kernelspec": {
   "display_name": "Python 3",
   "language": "python",
   "name": "python3"
  },
  "language_info": {
   "codemirror_mode": {
    "name": "ipython",
    "version": 3
   },
   "file_extension": ".py",
   "mimetype": "text/x-python",
   "name": "python",
   "nbconvert_exporter": "python",
   "pygments_lexer": "ipython3",
   "version": "3.6.0"
  }
 },
 "nbformat": 4,
 "nbformat_minor": 2
}
